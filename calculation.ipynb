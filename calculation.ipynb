{
 "cells": [
  {
   "cell_type": "code",
   "execution_count": 4,
   "id": "8446283c-ad38-4863-8f90-983e49e14fcd",
   "metadata": {},
   "outputs": [],
   "source": [
    "import numpy as np\n",
    "import numpy_financial as npf\n",
    "import matplotlib.pyplot as plt\n",
    "np.set_printoptions(suppress=True)"
   ]
  },
  {
   "cell_type": "markdown",
   "id": "d3822462-f07e-4448-9fe7-5356f76fb119",
   "metadata": {},
   "source": [
    "### Set initial conditions:"
   ]
  },
  {
   "cell_type": "code",
   "execution_count": 5,
   "id": "5c277dc8-c959-40db-97eb-2c6eb9d7eae5",
   "metadata": {},
   "outputs": [],
   "source": [
    "apartment_base_value = 120000\n",
    "yearly_price_increase = 0.05\n",
    "monthly_price_increase = yearly_price_increase / 12\n",
    "yearly_interest = 0.12\n",
    "monthly_interest = yearly_interest / 12\n",
    "years = 5\n",
    "periods = 5 * 12"
   ]
  },
  {
   "cell_type": "markdown",
   "id": "482181cc-c20b-4a79-8a2d-5e9319007af1",
   "metadata": {},
   "source": [
    "### Calculate apartment price at the end of each year:"
   ]
  },
  {
   "cell_type": "code",
   "execution_count": 11,
   "id": "dbd449b3-e975-471d-b232-e0234ee9d66e",
   "metadata": {},
   "outputs": [],
   "source": [
    "end_year_prices = np.repeat((yearly_price_increase + 1), years)"
   ]
  },
  {
   "cell_type": "code",
   "execution_count": 12,
   "id": "a23a13d1-3a5e-487d-96c4-f759daa9bbbf",
   "metadata": {},
   "outputs": [],
   "source": [
    "end_year_prices[0] = apartment_base_value * (1 + yearly_price_increase)"
   ]
  },
  {
   "cell_type": "code",
   "execution_count": 13,
   "id": "e38734e9-7cd1-437e-8a94-d003e5a1dca5",
   "metadata": {},
   "outputs": [],
   "source": [
    "end_year_prices = end_year_prices.cumprod()"
   ]
  },
  {
   "cell_type": "code",
   "execution_count": 14,
   "id": "4eb21344-7828-4c79-97eb-2b0c42298d2c",
   "metadata": {},
   "outputs": [],
   "source": [
    "expected_future_price = np.round(end_year_prices[-1],2)"
   ]
  },
  {
   "cell_type": "markdown",
   "id": "77206b33-9a65-4a45-89c0-7f513657f4b1",
   "metadata": {},
   "source": [
    "## Estimated apartment price at the end of year 5:"
   ]
  },
  {
   "cell_type": "code",
   "execution_count": 15,
   "id": "44bedc26-6322-4c2f-a461-c8425527c164",
   "metadata": {},
   "outputs": [
    {
     "name": "stdout",
     "output_type": "stream",
     "text": [
      "153153.79\n"
     ]
    }
   ],
   "source": [
    "print(expected_future_price)"
   ]
  },
  {
   "cell_type": "markdown",
   "id": "510201a8-15be-4101-9ebc-718979574e35",
   "metadata": {},
   "source": [
    "### Calculate monthly deposit:"
   ]
  },
  {
   "cell_type": "code",
   "execution_count": 16,
   "id": "59ada29f-2926-4c10-b21c-d2f10c586b31",
   "metadata": {},
   "outputs": [],
   "source": [
    "monthly_deposit =  np.around(- npf.pmt(monthly_interest, periods, 0, expected_future_price), 2)"
   ]
  },
  {
   "cell_type": "markdown",
   "id": "975d0cf7-8984-4dd8-86b8-d0f258379936",
   "metadata": {},
   "source": [
    "## Monthly deposit needed:"
   ]
  },
  {
   "cell_type": "code",
   "execution_count": 18,
   "id": "f1a8eace-fe3f-4e48-b189-03d898dc9cb1",
   "metadata": {},
   "outputs": [
    {
     "name": "stdout",
     "output_type": "stream",
     "text": [
      "1875.28\n"
     ]
    }
   ],
   "source": [
    "print(monthly_deposit)"
   ]
  },
  {
   "cell_type": "markdown",
   "id": "57ce96d6-a719-4625-8eb6-56126c30d0f6",
   "metadata": {},
   "source": [
    "### Calculate monthly apartment price development:"
   ]
  },
  {
   "cell_type": "code",
   "execution_count": 19,
   "id": "6adc513a-65ae-42aa-99c7-5f9fdfa8fece",
   "metadata": {},
   "outputs": [],
   "source": [
    "total_price_increase = expected_future_price - apartment_base_value"
   ]
  },
  {
   "cell_type": "code",
   "execution_count": 20,
   "id": "6b8cbb67-42b6-45bd-842e-4c3ef4d08364",
   "metadata": {},
   "outputs": [],
   "source": [
    "monthly_price_increase = np.zeros(periods) + total_price_increase / periods"
   ]
  },
  {
   "cell_type": "code",
   "execution_count": 21,
   "id": "2425ef6d-2217-46a3-b7b2-5fb8264f7b99",
   "metadata": {},
   "outputs": [],
   "source": [
    "monthly_price_development = np.around(apartment_base_value + monthly_price_increase.cumsum(),2)"
   ]
  },
  {
   "cell_type": "markdown",
   "id": "e81bade9-25bb-473d-9eff-5cba18d83c6f",
   "metadata": {},
   "source": [
    "## Monthly apartment's price development:"
   ]
  },
  {
   "cell_type": "code",
   "execution_count": 22,
   "id": "5786a4ff-34d5-4ebe-9ea8-4b4b70959c3e",
   "metadata": {},
   "outputs": [
    {
     "data": {
      "text/plain": [
       "array([120552.56, 121105.13, 121657.69, 122210.25, 122762.82, 123315.38,\n",
       "       123867.94, 124420.51, 124973.07, 125525.63, 126078.19, 126630.76,\n",
       "       127183.32, 127735.88, 128288.45, 128841.01, 129393.57, 129946.14,\n",
       "       130498.7 , 131051.26, 131603.83, 132156.39, 132708.95, 133261.52,\n",
       "       133814.08, 134366.64, 134919.21, 135471.77, 136024.33, 136576.9 ,\n",
       "       137129.46, 137682.02, 138234.58, 138787.15, 139339.71, 139892.27,\n",
       "       140444.84, 140997.4 , 141549.96, 142102.53, 142655.09, 143207.65,\n",
       "       143760.22, 144312.78, 144865.34, 145417.91, 145970.47, 146523.03,\n",
       "       147075.6 , 147628.16, 148180.72, 148733.28, 149285.85, 149838.41,\n",
       "       150390.97, 150943.54, 151496.1 , 152048.66, 152601.23, 153153.79])"
      ]
     },
     "execution_count": 22,
     "metadata": {},
     "output_type": "execute_result"
    }
   ],
   "source": [
    "monthly_price_development"
   ]
  },
  {
   "cell_type": "markdown",
   "id": "8e1b8575-fbc5-40bb-bf22-252f331f23cf",
   "metadata": {},
   "source": [
    "### Calculate monthly savings development:"
   ]
  },
  {
   "cell_type": "code",
   "execution_count": 23,
   "id": "6abc078c-2add-4c5b-900f-0b1acc5d035e",
   "metadata": {},
   "outputs": [],
   "source": [
    "monthly_savings_development = np.repeat((monthly_interest + 1), periods)"
   ]
  },
  {
   "cell_type": "code",
   "execution_count": 24,
   "id": "34d1259d-75f8-48e8-a00e-686140ca040d",
   "metadata": {},
   "outputs": [],
   "source": [
    "monthly_savings_development[0] = monthly_deposit"
   ]
  },
  {
   "cell_type": "code",
   "execution_count": 25,
   "id": "dd886790-2b2b-4e5c-901d-9dc3cdf41414",
   "metadata": {},
   "outputs": [],
   "source": [
    "monthly_savings_development = np.round(monthly_savings_development.cumprod().cumsum(),2)"
   ]
  },
  {
   "cell_type": "markdown",
   "id": "63632410-0c15-4b76-8190-413eb8d213c2",
   "metadata": {},
   "source": [
    "## Monthly savings level development:"
   ]
  },
  {
   "cell_type": "code",
   "execution_count": 26,
   "id": "5a896dd3-5bbc-4bbb-8ec1-fc6a7afd1875",
   "metadata": {},
   "outputs": [
    {
     "data": {
      "text/plain": [
       "array([  1875.28,   3769.31,   5682.29,   7614.39,   9565.81,  11536.75,\n",
       "        13527.4 ,  15537.95,  17568.61,  19619.58,  21691.05,  23783.24,\n",
       "        25896.36,  28030.6 ,  30186.19,  32363.33,  34562.24,  36783.14,\n",
       "        39026.26,  41291.8 ,  43580.  ,  45891.08,  48225.27,  50582.8 ,\n",
       "        52963.91,  55368.83,  57797.79,  60251.05,  62728.84,  65231.41,\n",
       "        67759.01,  70311.88,  72890.27,  75494.46,  78124.68,  80781.21,\n",
       "        83464.3 ,  86174.22,  88911.25,  91675.64,  94467.67,  97287.63,\n",
       "       100135.79, 103012.43, 105917.83, 108852.29, 111816.09, 114809.53,\n",
       "       117832.91, 120886.52, 123970.66, 127085.65, 130231.78, 133409.38,\n",
       "       136618.76, 139860.22, 143134.11, 146440.73, 149780.41, 153153.5 ])"
      ]
     },
     "execution_count": 26,
     "metadata": {},
     "output_type": "execute_result"
    }
   ],
   "source": [
    "monthly_savings_development"
   ]
  },
  {
   "cell_type": "code",
   "execution_count": null,
   "id": "8839c3a7-91a9-4988-a121-ec478e891077",
   "metadata": {},
   "outputs": [],
   "source": []
  }
 ],
 "metadata": {
  "kernelspec": {
   "display_name": "Python 3 (ipykernel)",
   "language": "python",
   "name": "python3"
  },
  "language_info": {
   "codemirror_mode": {
    "name": "ipython",
    "version": 3
   },
   "file_extension": ".py",
   "mimetype": "text/x-python",
   "name": "python",
   "nbconvert_exporter": "python",
   "pygments_lexer": "ipython3",
   "version": "3.9.7"
  }
 },
 "nbformat": 4,
 "nbformat_minor": 5
}
