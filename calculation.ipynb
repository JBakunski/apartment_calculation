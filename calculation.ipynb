{
 "cells": [
  {
   "cell_type": "code",
   "execution_count": 4,
   "id": "8446283c-ad38-4863-8f90-983e49e14fcd",
   "metadata": {},
   "outputs": [],
   "source": [
    "import numpy as np\n",
    "import numpy_financial as npf\n",
    "import matplotlib.pyplot as plt\n",
    "np.set_printoptions(suppress=True)"
   ]
  },
  {
   "cell_type": "markdown",
   "id": "d3822462-f07e-4448-9fe7-5356f76fb119",
   "metadata": {},
   "source": [
    "### Set initial conditions:"
   ]
  },
  {
   "cell_type": "code",
   "execution_count": 5,
   "id": "5c277dc8-c959-40db-97eb-2c6eb9d7eae5",
   "metadata": {},
   "outputs": [],
   "source": [
    "apartment_base_value = 120000\n",
    "yearly_price_increase = 0.05\n",
    "monthly_price_increase = yearly_price_increase / 12\n",
    "yearly_interest = 0.12\n",
    "monthly_interest = yearly_interest / 12\n",
    "years = 5\n",
    "periods = 5 * 12"
   ]
  },
  {
   "cell_type": "markdown",
   "id": "482181cc-c20b-4a79-8a2d-5e9319007af1",
   "metadata": {},
   "source": [
    "### Calculate apartment price at the end of each year:"
   ]
  },
  {
   "cell_type": "code",
   "execution_count": 11,
   "id": "dbd449b3-e975-471d-b232-e0234ee9d66e",
   "metadata": {},
   "outputs": [],
   "source": [
    "end_year_prices = np.repeat((yearly_price_increase + 1), years)"
   ]
  },
  {
   "cell_type": "code",
   "execution_count": 12,
   "id": "a23a13d1-3a5e-487d-96c4-f759daa9bbbf",
   "metadata": {},
   "outputs": [],
   "source": [
    "end_year_prices[0] = apartment_base_value * (1 + yearly_price_increase)"
   ]
  },
  {
   "cell_type": "code",
   "execution_count": 13,
   "id": "e38734e9-7cd1-437e-8a94-d003e5a1dca5",
   "metadata": {},
   "outputs": [],
   "source": [
    "end_year_prices = end_year_prices.cumprod()"
   ]
  },
  {
   "cell_type": "code",
   "execution_count": 14,
   "id": "4eb21344-7828-4c79-97eb-2b0c42298d2c",
   "metadata": {},
   "outputs": [],
   "source": [
    "expected_future_price = np.round(end_year_prices[-1],2)"
   ]
  },
  {
   "cell_type": "markdown",
   "id": "77206b33-9a65-4a45-89c0-7f513657f4b1",
   "metadata": {},
   "source": [
    "## Estimated apartment price at the end of year 5:"
   ]
  },
  {
   "cell_type": "code",
   "execution_count": 15,
   "id": "44bedc26-6322-4c2f-a461-c8425527c164",
   "metadata": {},
   "outputs": [
    {
     "name": "stdout",
     "output_type": "stream",
     "text": [
      "153153.79\n"
     ]
    }
   ],
   "source": [
    "print(expected_future_price)"
   ]
  },
  {
   "cell_type": "markdown",
   "id": "510201a8-15be-4101-9ebc-718979574e35",
   "metadata": {},
   "source": [
    "### Calculate monthly deposit:"
   ]
  },
  {
   "cell_type": "code",
   "execution_count": 16,
   "id": "59ada29f-2926-4c10-b21c-d2f10c586b31",
   "metadata": {},
   "outputs": [],
   "source": [
    "monthly_deposit =  np.around(- npf.pmt(monthly_interest, periods, 0, expected_future_price), 2)"
   ]
  },
  {
   "cell_type": "markdown",
   "id": "975d0cf7-8984-4dd8-86b8-d0f258379936",
   "metadata": {},
   "source": [
    "## Monthly deposit needed:"
   ]
  },
  {
   "cell_type": "code",
   "execution_count": 18,
   "id": "f1a8eace-fe3f-4e48-b189-03d898dc9cb1",
   "metadata": {},
   "outputs": [
    {
     "name": "stdout",
     "output_type": "stream",
     "text": [
      "1875.28\n"
     ]
    }
   ],
   "source": [
    "print(monthly_deposit)"
   ]
  },
  {
   "cell_type": "code",
   "execution_count": null,
   "id": "5c02f39c-6ae9-45dc-b1fd-a9c916d3e016",
   "metadata": {},
   "outputs": [],
   "source": []
  }
 ],
 "metadata": {
  "kernelspec": {
   "display_name": "Python 3 (ipykernel)",
   "language": "python",
   "name": "python3"
  },
  "language_info": {
   "codemirror_mode": {
    "name": "ipython",
    "version": 3
   },
   "file_extension": ".py",
   "mimetype": "text/x-python",
   "name": "python",
   "nbconvert_exporter": "python",
   "pygments_lexer": "ipython3",
   "version": "3.9.7"
  }
 },
 "nbformat": 4,
 "nbformat_minor": 5
}
