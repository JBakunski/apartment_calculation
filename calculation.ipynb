{
 "cells": [
  {
   "cell_type": "code",
   "execution_count": 3,
   "id": "8446283c-ad38-4863-8f90-983e49e14fcd",
   "metadata": {},
   "outputs": [],
   "source": [
    "import numpy as np\n",
    "import numpy_financial as npf\n",
    "import matplotlib.pyplot as plt\n",
    "np.set_printoptions(suppress=True)"
   ]
  },
  {
   "cell_type": "markdown",
   "id": "d3822462-f07e-4448-9fe7-5356f76fb119",
   "metadata": {},
   "source": [
    "### Set initial conditions:"
   ]
  },
  {
   "cell_type": "code",
   "execution_count": 6,
   "id": "5c277dc8-c959-40db-97eb-2c6eb9d7eae5",
   "metadata": {},
   "outputs": [],
   "source": [
    "apartment_base_value = 120000\n",
    "yearly_price_increase = 0.05\n",
    "monthly_price_increase = yearly_price_increase / 12\n",
    "yearly_interest = 0.12\n",
    "monthly_interest = yearly_interest / 12\n",
    "years = 5\n",
    "periods = 5 * 12"
   ]
  },
  {
   "cell_type": "code",
   "execution_count": null,
   "id": "0f9d7457-78e9-4958-b9c5-8bdee2ef0763",
   "metadata": {},
   "outputs": [],
   "source": []
  }
 ],
 "metadata": {
  "kernelspec": {
   "display_name": "Python 3 (ipykernel)",
   "language": "python",
   "name": "python3"
  },
  "language_info": {
   "codemirror_mode": {
    "name": "ipython",
    "version": 3
   },
   "file_extension": ".py",
   "mimetype": "text/x-python",
   "name": "python",
   "nbconvert_exporter": "python",
   "pygments_lexer": "ipython3",
   "version": "3.9.7"
  }
 },
 "nbformat": 4,
 "nbformat_minor": 5
}
